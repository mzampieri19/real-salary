{
 "cells": [
  {
   "cell_type": "code",
   "execution_count": null,
   "id": "82b002f7",
   "metadata": {},
   "outputs": [],
   "source": [
    "import pandas as pd\n",
    "import numpy as np\n",
    "import json\n",
    "from collections import Counter"
   ]
  },
  {
   "cell_type": "markdown",
   "id": "83c434ca",
   "metadata": {},
   "source": [
    "## Data Processing"
   ]
  },
  {
   "cell_type": "code",
   "execution_count": null,
   "id": "ab8fa390",
   "metadata": {},
   "outputs": [],
   "source": [
    "df = pd.read_csv(\"job_descriptions.csv\")"
   ]
  },
  {
   "cell_type": "code",
   "execution_count": null,
   "id": "31306be3",
   "metadata": {},
   "outputs": [],
   "source": [
    "df = pd.read_csv(\"job_descriptions.csv\")"
   ]
  },
  {
   "cell_type": "code",
   "execution_count": null,
   "id": "e256f90e",
   "metadata": {},
   "outputs": [],
   "source": [
    "feature_to_filter_type = \"Work Type\"\n",
    "values_to_keep_type = [\"Full-Time\"]\n",
    "\n",
    "df_filtered_type = df[df[feature_to_filter_type].isin(values_to_keep_type)]\n"
   ]
  },
  {
   "cell_type": "code",
   "execution_count": null,
   "id": "cd600010",
   "metadata": {},
   "outputs": [],
   "source": [
    "feature_to_filter_country = \"Country\"\n",
    "values_to_keep_country = [\"USA\"]\n",
    "\n",
    "df_filtered_country = df[df[feature_to_filter_country].isin(values_to_keep_country)]\n"
   ]
  },
  {
   "cell_type": "code",
   "execution_count": null,
   "id": "7254c93d",
   "metadata": {},
   "outputs": [],
   "source": [
    "import json\n",
    "\n",
    "def extract_sector_industry(row):\n",
    "  try:\n",
    "    profile = json.loads(row['Company Profile'])\n",
    "    return profile.get('Sector'), profile.get('Industry')\n",
    "  except:\n",
    "    return None, None\n",
    "\n",
    "df_filtered_country[['Sector', 'Industry']] = df_filtered_country.apply(extract_sector_industry, axis=1, result_type='expand')\n"
   ]
  },
  {
   "cell_type": "code",
   "execution_count": null,
   "id": "07184930",
   "metadata": {},
   "outputs": [],
   "source": [
    "df_filtered_country.drop(columns=['Company Profile'], inplace=True)"
   ]
  },
  {
   "cell_type": "code",
   "execution_count": null,
   "id": "ac80b341",
   "metadata": {},
   "outputs": [],
   "source": [
    "df_filtered_country.drop(columns=['Job Id']).describe()"
   ]
  },
  {
   "cell_type": "code",
   "execution_count": null,
   "id": "af62e93e",
   "metadata": {},
   "outputs": [],
   "source": []
  },
  {
   "cell_type": "markdown",
   "id": "e3df2d2e",
   "metadata": {},
   "source": [
    "## Sector & Industry Prediction"
   ]
  },
  {
   "cell_type": "code",
   "execution_count": null,
   "id": "7c03a1ea",
   "metadata": {},
   "outputs": [],
   "source": [
    "import requests\n",
    "import json\n",
    "\n",
    "url = \"http://localhost:11434/api/chat\""
   ]
  },
  {
   "cell_type": "code",
   "execution_count": null,
   "id": "d4c61f78",
   "metadata": {},
   "outputs": [],
   "source": [
    "def llama3(prompt):\n",
    "    data = {\n",
    "        \"model\": \"llama3\",\n",
    "        \"messages\": [\n",
    "            {\n",
    "                \"role\": \"user\",\n",
    "                \"content\": prompt\n",
    "            }\n",
    "        ],\n",
    "        \"stream\": False,\n",
    "    }\n",
    "\n",
    "    headers = {\n",
    "        \"Content-Type\": \"application/json\"\n",
    "    }\n",
    "\n",
    "    response = requests.post(url, headers=headers, json=data)\n",
    "    return response.json()[\"message\"][\"content\"]"
   ]
  },
  {
   "cell_type": "code",
   "execution_count": null,
   "id": "8e4173ff",
   "metadata": {},
   "outputs": [],
   "source": [
    "sectors_list = ['Aerospace Building Systems', 'Aerospace and Defense', 'Agriculture', \n",
    "                'Airlines', 'Appliances and Electronics', 'Automotive', \n",
    "                'Automotive Motorcycles', 'Automotive Parts', 'Aviation and Travel', \n",
    "                'Banking', 'Beauty', 'Beverage Alcohol', 'Beverages', 'Business Services', \n",
    "                'Chemicals', 'Communication Equipment', 'Conglomerate', \n",
    "                'Construction Building Materials', 'Consumer Goods', 'Diversified', \n",
    "                'Electrical Equipment', 'Electronics', 'Energy', 'Energy Oil and Gas', \n",
    "                'Engineering', 'Entertainment', 'Equipment Rental', 'Financial Services', \n",
    "                'Financial Services Investment Management', 'Financial Technology', \n",
    "                'Financials', 'Flavor and Fragrances', 'Food and Beverage', 'Healthcare', \n",
    "                'Healthcare Services', 'Hospitality', 'Hospitality Hotels', 'IT Consulting', \n",
    "                'IT Services', 'Industrial Conglomerates', 'Industrial Machinery', \n",
    "                'Industrial Supplies', 'Information Technology', 'Infrastructure', \n",
    "                'Insurance', 'Lighting and Technology', 'Logistics', 'Lubricants', \n",
    "                'Manufacturing', 'Media', 'Media Entertainment', 'Medical Devices', \n",
    "                'Medical Technology', 'Metals', 'Metals and Mining', 'Mining and Metals Gold', \n",
    "                'Motion Control', 'Natural Gas', 'Oil and Gas', 'Oil and Gas Services', \n",
    "                'Packaging', 'Payroll   HR Services', 'Pharmaceuticals', 'Postal Services', \n",
    "                'Real Estate', 'Real Estate Construction', 'Restaurants', 'Retail', \n",
    "                'Retail and Conglomerate', 'Services', 'Shipping and Logistics', \n",
    "                'Software and Technology', 'Technology', 'Technology IT Services', \n",
    "                'Technology and Networking', 'Technology and Search', \n",
    "                'Technology and Software', 'Telecommunications', 'Timber   Paper', 'Tobacco', \n",
    "                'Transportation', 'Travel and Booking', 'Utilities']\n"
   ]
  },
  {
   "cell_type": "code",
   "execution_count": null,
   "id": "7ce4a192",
   "metadata": {},
   "outputs": [],
   "source": [
    "industry_list = ['Real Estate' 'Aerospace and Defense' 'Chemicals' 'Commercial Banks'\n",
    " 'Utilities: Gas and Electric' 'Pharmaceuticals' 'Airlines' 'Beverages'\n",
    " 'Petroleum Refining' 'Banking & Financial Services' 'Entertainment'\n",
    " 'Internet Services and Retailing' 'Real Estate/REIT'\n",
    " 'Information Technology' 'Semiconductors and Other Electronic Components'\n",
    " 'Financial Data Services' 'Food Services' 'Automotive'\n",
    " 'Electrical Equipment' 'Travel and Leisure - Hotels'\n",
    " 'Energy - Oil & Gas Exploration & Production'\n",
    " 'Mining, Crude-Oil Production' 'Financial Services'\n",
    " 'Wholesalers: Diversified' 'Financial Services - Investment'\n",
    " 'Transportation/Logistics' 'Wholesalers: Health Care' 'Mining'\n",
    " 'Automotive Retailing, Services' 'Telecommunications'\n",
    " 'Diversified Financials' 'Packaging, Containers' 'Industrial Machinery'\n",
    " 'Business Services - Pest Control' 'Technology & Telecommunications'\n",
    " 'Aerospace & Defense' 'Food and Drug Stores' 'Food Production'\n",
    " 'Pipelines' 'Consumer Goods' 'Specialty Retailers: Other'\n",
    " 'Home Equipment, Furnishings' 'Tobacco' 'Health Care: Medical Facilities'\n",
    " 'Energy' 'Industrial Conglomerate' 'Electronics & Appliances'\n",
    " 'General Merchandisers' 'Diversified Outsourcing Services' 'Oil and Gas'\n",
    " 'Equipment Rental' 'Airlines & Aviation' 'Media and Entertainment'\n",
    " 'Banking' 'Insurance: Life, Health (Stock)' 'Food & Beverage'\n",
    " 'Forest and Paper Products' 'Banking/Financial Services'\n",
    " 'Postal Services' 'Insurance - Property/Casualty'\n",
    " 'Insurance: Property and Casualty (Stock)'\n",
    " 'Food and Beverage - Alcoholic Beverages' 'Energy - Oil & Gas Services'\n",
    " 'Metals' 'Food Consumer Products' 'Retail' 'Transportation and Logistics'\n",
    " 'Medical Products and Equipment' 'Information Technology Services'\n",
    " 'Computer Software' 'Engineering & Construction' 'Utilities'\n",
    " 'Health Care: Insurance and Managed Care' 'Securities'\n",
    " 'Paints and Coatings' 'Gas and Energy' 'Trucking, Truck Leasing'\n",
    " 'Healthcare' 'Restaurants' 'Insurance' 'Technology' 'Internet/Technology'\n",
    " 'Building Materials/Construction' 'Electronics/Components'\n",
    " 'Financial Services/Insurance' 'Software' 'Lighting & Electronics'\n",
    " 'Network and Other Communications Equipment'\n",
    " 'Technology & Search Engines' 'Wholesalers: Food and Grocery'\n",
    " 'Publishing, Printing' 'Household and Personal Products'\n",
    " 'Engineering/Industrial Equipment' 'Food and Beverage'\n",
    " 'Insurance: Life, Health (Mutual)' 'Motor Vehicles & Parts' 'Oil & Gas'\n",
    " 'Health Care: Pharmacy and Other Services' 'Retail - Books & News'\n",
    " 'Real Estate/Construction' 'Food Manufacturing'\n",
    " 'Hotels, Casinos, Resorts' 'Retail - Farm and Ranch Supplies'\n",
    " 'Diversified' 'Cement and Building Materials'\n",
    " 'Logistics & Delivery Services' 'Banking and Financial Services'\n",
    " 'Wholesalers: Electronics and Office Equipment'\n",
    " 'Manufacturing - Diversified' 'Energy - Diversified'\n",
    " 'Building Materials, Glass' 'Mail, Package and Freight Delivery'\n",
    " 'Hospitality & Entertainment' 'Conglomerate' 'Gambling/Gaming'\n",
    " 'Computers, Office Equipment' 'Travel and Leisure - Cruises'\n",
    " 'Temporary Help' 'Financial Services/Investment Management'\n",
    " 'Apparel and Textiles' 'Homebuilders' 'Steel'\n",
    " 'Technology & Entertainment' 'Personal Care & Cosmetics' 'Apparel'\n",
    " 'Manufacturing/Building Systems' 'Distribution/Wholesale'\n",
    " 'Transportation - Rail' 'Technology & Social Media' 'Energy - Utilities'\n",
    " 'Consumer Products - Cleaning Products' 'Advertising, Marketing'\n",
    " 'Waste Management' 'E-commerce & Technology' 'Construction/Engineering'\n",
    " 'Railroads' 'Financial Services - Investment Banking'\n",
    " 'Retail - Food & Drug' 'Specialty Retailers: Apparel'\n",
    " 'Industrial Manufacturing' 'Cement and Concrete' 'Tire Manufacturing'\n",
    " 'Insurance: Property and Casualty (Mutual)' 'Beverage'\n",
    " 'Construction and Farm Machinery'\n",
    " 'Scientific, Photographic and Control Equipment'\n",
    " 'Advertising and Marketing' 'Manufacturing - Electrical Equipment'\n",
    " 'Financial Technology (Fintech)' 'Transportation - Airlines'\n",
    " 'Information Technology and Services' 'Electronics, Electrical Equip.'\n",
    " 'Transportation/Infrastructure' 'Electronics/Instrumentation'\n",
    " 'Apparel/Fashion' 'Agrochemicals' 'Hospitality/Hotels'\n",
    " 'E-commerce/Technology' 'Retail - Discount/Department Stores' 'Logistics'\n",
    " 'Manufacturing & Transportation' 'Retail - General Merchandise'\n",
    " 'Retail - Home Improvement' 'Transportation' 'Medical Devices/Healthcare'\n",
    " 'Transportation Equipment' 'Ports and Infrastructure'\n",
    " 'Manufacturing/Steel' 'Entertainment - Streaming Services'\n",
    " 'Business Services - Testing/Compliance' 'Semiconductors'\n",
    " 'Technology & Electronics' 'Consumer Products - Cosmetics'\n",
    " 'Online Recruitment' 'Entertainment - Satellite Radio' 'Retail - Apparel'\n",
    " 'Construction' 'Retail/Home Improvement' 'Jewelry and Watches'\n",
    " 'Renewable Energy' 'Gaming/Gambling' 'Software/Technology'\n",
    " 'Oil and Gas Equipment, Services' 'Gambling'\n",
    " 'Business Services - Data/Analytics' 'Energy - Coal' 'Aviation/Airlines'\n",
    " 'Retail - Electronics' 'Technology - Ride-hailing'\n",
    " 'Construction & Building Materials' 'Education' 'Life Sciences'\n",
    " 'Cement and Chemicals' 'Entertainment - Music Streaming' 'E-commerce'\n",
    " 'Construction and Engineering' 'Media & Entertainment' 'Electronics'\n",
    " 'Equipment Leasing' 'Technology & Security'\n",
    " 'Aluminum and Copper Manufacturing' 'Apparel & Footwear'\n",
    " 'Cloud Software and Services' 'Media/Entertainment']\n"
   ]
  },
  {
   "cell_type": "code",
   "execution_count": null,
   "id": "b08f53b7",
   "metadata": {},
   "outputs": [],
   "source": []
  },
  {
   "cell_type": "code",
   "execution_count": null,
   "id": "7575f367",
   "metadata": {},
   "outputs": [],
   "source": [
    "def getSector(prompt):\n",
    "    sectors_str = \", \".join(sectors_list)\n",
    "    industry_str = \", \".join(industry_list)\n",
    "    data = {\n",
    "        \"model\": \"llama3\",\n",
    "        \"messages\": [\n",
    "            {\n",
    "                \"role\": \"user\",\n",
    "                # What we are asking the API, will be given the name of company in the prompt\n",
    "                \"content\": f\"Identify the sector and industry for the company named {prompt}. \" \n",
    "                            \"Respond strictly in the format: 'Sector: [best matching sector], Industry: [best matching industry]'. \"\n",
    "                            f\"Select the most appropriate sector from this list: {sectors_str}, and the most appropriate industry from this list: {industry_str}.\" \n",
    "                            \"Do not include any additional information or commentary.\"\n",
    "            }\n",
    "        ],\n",
    "        \"stream\": False,\n",
    "    }\n",
    "\n",
    "    headers = {\n",
    "        \"Content-Type\": \"application/json\"\n",
    "    }\n",
    "\n",
    "    response = requests.post(url, headers=headers, json=data)\n",
    "    \n",
    "    # extract sector and industry\n",
    "    try:\n",
    "        sector = response_content.split(\"Sector: \")[1].split(\",\")[0]\n",
    "        industry = response_content.split(\"Industry: \")[1].split(\"]\")[0].strip()\n",
    "    except IndexError:\n",
    "        sector, industry = \"Unknown\", \"Unknown\"\n",
    "\n",
    "    return sector, industry\n"
   ]
  },
  {
   "cell_type": "code",
   "execution_count": null,
   "id": "7e4c0712",
   "metadata": {},
   "outputs": [],
   "source": [
    "response = getSector(\"Macquarie Group\")\n",
    "print(response)"
   ]
  },
  {
   "cell_type": "code",
   "execution_count": null,
   "id": "1a39e2a2",
   "metadata": {},
   "outputs": [],
   "source": []
  },
  {
   "cell_type": "code",
   "execution_count": null,
   "id": "29f3ca72",
   "metadata": {},
   "outputs": [],
   "source": [
    "companies = df_filtered_country['company']"
   ]
  },
  {
   "cell_type": "code",
   "execution_count": null,
   "id": "de8c355b",
   "metadata": {},
   "outputs": [],
   "source": [
    "predicted_sectors = []\n",
    "predicted_industries = []\n",
    "for company in companies:\n",
    "    predicted_sector, predicted_industry = getSector(company)\n",
    "    predicted_sectors.append(predicted_sector)\n",
    "    predicted_industries.append(predicted_industry)"
   ]
  },
  {
   "cell_type": "code",
   "execution_count": null,
   "id": "2f923cfc",
   "metadata": {},
   "outputs": [],
   "source": [
    "df_comparison = pd.DataFrame({\n",
    "    'company': df_filtered_country['company'],\n",
    "    'predicted_sector': predicted_sectors,\n",
    "    'sector': df_filtered_country['sector'],\n",
    "    'predicted_industry': predicted_industries,\n",
    "    'industry': df_filtered_country['industry']\n",
    "})"
   ]
  },
  {
   "cell_type": "code",
   "execution_count": null,
   "id": "084cc6b9",
   "metadata": {},
   "outputs": [],
   "source": [
    "df_comparison['sector_correct'] = df_comparison['predicted_sector'] == df_comparison['sector']\n",
    "df_comparison['industry_correct'] = df_comparison['predicted_industry'] == df_comparison['industry']\n"
   ]
  },
  {
   "cell_type": "code",
   "execution_count": null,
   "id": "1c41958f",
   "metadata": {},
   "outputs": [],
   "source": [
    "sector_accuracy = df_comparison['sector_correct'].mean()\n",
    "industry_accuracy = df_comparison['industry_correct'].mean()\n"
   ]
  },
  {
   "cell_type": "code",
   "execution_count": null,
   "id": "c6055c87",
   "metadata": {},
   "outputs": [],
   "source": []
  },
  {
   "cell_type": "code",
   "execution_count": null,
   "id": "fe99dcdf",
   "metadata": {},
   "outputs": [],
   "source": []
  }
 ],
 "metadata": {
  "kernelspec": {
   "display_name": "Python 3 (ipykernel)",
   "language": "python",
   "name": "python3"
  },
  "language_info": {
   "codemirror_mode": {
    "name": "ipython",
    "version": 3
   },
   "file_extension": ".py",
   "mimetype": "text/x-python",
   "name": "python",
   "nbconvert_exporter": "python",
   "pygments_lexer": "ipython3",
   "version": "3.11.5"
  }
 },
 "nbformat": 4,
 "nbformat_minor": 5
}
