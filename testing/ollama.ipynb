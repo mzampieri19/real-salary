{
 "cells": [
  {
   "cell_type": "markdown",
   "metadata": {},
   "source": [
    "# Ollama testing\n",
    "\n",
    "Testing API calls using ollama instead of llama"
   ]
  },
  {
   "cell_type": "code",
   "execution_count": 7,
   "metadata": {},
   "outputs": [],
   "source": [
    "import requests\n",
    "import json\n",
    "\n",
    "url = \"http://localhost:11434/api/chat\""
   ]
  },
  {
   "cell_type": "markdown",
   "metadata": {},
   "source": [
    "# Sample API Call\n",
    "\n",
    "Here we are following the documantation to see how it works"
   ]
  },
  {
   "cell_type": "code",
   "execution_count": 8,
   "metadata": {},
   "outputs": [],
   "source": [
    "def llama3(prompt):\n",
    "    data = {\n",
    "        \"model\": \"llama3\",\n",
    "        \"messages\": [\n",
    "            {\n",
    "                \"role\": \"user\",\n",
    "                \"content\": prompt\n",
    "            }\n",
    "        ],\n",
    "        \"stream\": False,\n",
    "    }\n",
    "\n",
    "    headers = {\n",
    "        \"Content-Type\": \"application/json\"\n",
    "    }\n",
    "\n",
    "    response = requests.post(url, headers=headers, json=data)\n",
    "    return response.json()[\"message\"][\"content\"]"
   ]
  },
  {
   "cell_type": "code",
   "execution_count": 9,
   "metadata": {},
   "outputs": [
    {
     "name": "stdout",
     "output_type": "stream",
     "text": [
      "The novel \"The Godfather\" was written by Mario Puzo. It was published in 1969 and has since become a classic of modern American literature.\n",
      "\n",
      "Mario Puzo (1920-1999) was an Italian-American author, screenwriter, and journalist. He is best known for writing the novels that inspired the films \"The Godfather\" (1972), \"Fools Die\" (1978), and \"The Last Don\" (1996).\n",
      "\n",
      "Puzo's novel \"The Godfather\" tells the story of the Corleone crime family and their rise to power in New York City. The book was a huge commercial success, selling millions of copies worldwide. It has been translated into over 30 languages and has become a beloved classic.\n",
      "\n",
      "In addition to writing novels, Puzo also worked as a screenwriter for film and television. He co-wrote the screenplay for the 1972 film \"The Godfather\" with Francis Ford Coppola, which won several Academy Awards and is widely considered one of the greatest films of all time.\n"
     ]
    }
   ],
   "source": [
    "response = llama3(\"who wrote the book godfather\")\n",
    "print(response)"
   ]
  },
  {
   "cell_type": "markdown",
   "metadata": {},
   "source": [
    "Eveyrthing done above was as done in the API documentation of Ollama will now try to fit it to our data."
   ]
  },
  {
   "cell_type": "code",
   "execution_count": 10,
   "metadata": {},
   "outputs": [],
   "source": [
    "sectors_list = ['Aerospace Building Systems', 'Aerospace and Defense', 'Agriculture', 'Airlines', 'Appliances and Electronics', 'Automotive', 'Automotive Motorcycles', 'Automotive Parts', 'Aviation and Travel', 'Banking', 'Beauty', 'Beverage Alcohol', 'Beverages', 'Business Services', 'Chemicals', 'Communication Equipment', 'Conglomerate', 'Construction Building Materials', 'Consumer Goods', 'Diversified', 'Electrical Equipment', 'Electronics', 'Energy', 'Energy Oil and Gas', 'Engineering', 'Entertainment', 'Equipment Rental', 'Financial Services', 'Financial Services Investment Management', 'Financial Technology', 'Financials', 'Flavor and Fragrances', 'Food and Beverage', 'Healthcare', 'Healthcare Services', 'Hospitality', 'Hospitality Hotels', 'IT Consulting', 'IT Services', 'Industrial Conglomerates', 'Industrial Machinery', 'Industrial Supplies', 'Information Technology', 'Infrastructure', 'Insurance', 'Lighting and Technology', 'Logistics', 'Lubricants', 'Manufacturing', 'Media', 'Media Entertainment', 'Medical Devices', 'Medical Technology', 'Metals', 'Metals and Mining', 'Mining and Metals Gold', 'Motion Control', 'Natural Gas', 'Oil and Gas', 'Oil and Gas Services', 'Packaging', 'Payroll   HR Services', 'Pharmaceuticals', 'Postal Services', 'Real Estate', 'Real Estate Construction', 'Restaurants', 'Retail', 'Retail and Conglomerate', 'Services', 'Shipping and Logistics', 'Software and Technology', 'Technology', 'Technology IT Services', 'Technology and Networking', 'Technology and Search', 'Technology and Software', 'Telecommunications', 'Timber   Paper', 'Tobacco', 'Transportation', 'Travel and Booking', 'Utilities', 'sector matrices list']"
   ]
  },
  {
   "cell_type": "code",
   "execution_count": 11,
   "metadata": {},
   "outputs": [],
   "source": [
    "industry_list = ['Real Estate' 'Aerospace and Defense' 'Chemicals' 'Commercial Banks'\n",
    " 'Utilities: Gas and Electric' 'Pharmaceuticals' 'Airlines' 'Beverages'\n",
    " 'Petroleum Refining' 'Banking & Financial Services' 'Entertainment'\n",
    " 'Internet Services and Retailing' 'Real Estate/REIT'\n",
    " 'Information Technology' 'Semiconductors and Other Electronic Components'\n",
    " 'Financial Data Services' 'Food Services' 'Automotive'\n",
    " 'Electrical Equipment' 'Travel and Leisure - Hotels'\n",
    " 'Energy - Oil & Gas Exploration & Production'\n",
    " 'Mining, Crude-Oil Production' 'Financial Services'\n",
    " 'Wholesalers: Diversified' 'Financial Services - Investment'\n",
    " 'Transportation/Logistics' 'Wholesalers: Health Care' 'Mining'\n",
    " 'Automotive Retailing, Services' 'Telecommunications'\n",
    " 'Diversified Financials' 'Packaging, Containers' 'Industrial Machinery'\n",
    " 'Business Services - Pest Control' 'Technology & Telecommunications'\n",
    " 'Aerospace & Defense' 'Food and Drug Stores' 'Food Production'\n",
    " 'Pipelines' 'Consumer Goods' 'Specialty Retailers: Other'\n",
    " 'Home Equipment, Furnishings' 'Tobacco' 'Health Care: Medical Facilities'\n",
    " 'Energy' 'Industrial Conglomerate' 'Electronics & Appliances'\n",
    " 'General Merchandisers' 'Diversified Outsourcing Services' 'Oil and Gas'\n",
    " 'Equipment Rental' 'Airlines & Aviation' 'Media and Entertainment'\n",
    " 'Banking' 'Insurance: Life, Health (Stock)' 'Food & Beverage'\n",
    " 'Forest and Paper Products' 'Banking/Financial Services'\n",
    " 'Postal Services' 'Insurance - Property/Casualty'\n",
    " 'Insurance: Property and Casualty (Stock)'\n",
    " 'Food and Beverage - Alcoholic Beverages' 'Energy - Oil & Gas Services'\n",
    " 'Metals' 'Food Consumer Products' 'Retail' 'Transportation and Logistics'\n",
    " 'Medical Products and Equipment' 'Information Technology Services'\n",
    " 'Computer Software' 'Engineering & Construction' 'Utilities'\n",
    " 'Health Care: Insurance and Managed Care' 'Securities'\n",
    " 'Paints and Coatings' 'Gas and Energy' 'Trucking, Truck Leasing'\n",
    " 'Healthcare' 'Restaurants' 'Insurance' 'Technology' 'Internet/Technology'\n",
    " 'Building Materials/Construction' 'Electronics/Components'\n",
    " 'Financial Services/Insurance' 'Software' 'Lighting & Electronics'\n",
    " 'Network and Other Communications Equipment'\n",
    " 'Technology & Search Engines' 'Wholesalers: Food and Grocery'\n",
    " 'Publishing, Printing' 'Household and Personal Products'\n",
    " 'Engineering/Industrial Equipment' 'Food and Beverage'\n",
    " 'Insurance: Life, Health (Mutual)' 'Motor Vehicles & Parts' 'Oil & Gas'\n",
    " 'Health Care: Pharmacy and Other Services' 'Retail - Books & News'\n",
    " 'Real Estate/Construction' 'Food Manufacturing'\n",
    " 'Hotels, Casinos, Resorts' 'Retail - Farm and Ranch Supplies'\n",
    " 'Diversified' 'Cement and Building Materials'\n",
    " 'Logistics & Delivery Services' 'Banking and Financial Services'\n",
    " 'Wholesalers: Electronics and Office Equipment'\n",
    " 'Manufacturing - Diversified' 'Energy - Diversified'\n",
    " 'Building Materials, Glass' 'Mail, Package and Freight Delivery'\n",
    " 'Hospitality & Entertainment' 'Conglomerate' 'Gambling/Gaming'\n",
    " 'Computers, Office Equipment' 'Travel and Leisure - Cruises'\n",
    " 'Temporary Help' 'Financial Services/Investment Management'\n",
    " 'Apparel and Textiles' 'Homebuilders' 'Steel'\n",
    " 'Technology & Entertainment' 'Personal Care & Cosmetics' 'Apparel'\n",
    " 'Manufacturing/Building Systems' 'Distribution/Wholesale'\n",
    " 'Transportation - Rail' 'Technology & Social Media' 'Energy - Utilities'\n",
    " 'Consumer Products - Cleaning Products' 'Advertising, Marketing'\n",
    " 'Waste Management' 'E-commerce & Technology' 'Construction/Engineering'\n",
    " 'Railroads' 'Financial Services - Investment Banking'\n",
    " 'Retail - Food & Drug' 'Specialty Retailers: Apparel'\n",
    " 'Industrial Manufacturing' 'Cement and Concrete' 'Tire Manufacturing'\n",
    " 'Insurance: Property and Casualty (Mutual)' 'Beverage'\n",
    " 'Construction and Farm Machinery'\n",
    " 'Scientific, Photographic and Control Equipment'\n",
    " 'Advertising and Marketing' 'Manufacturing - Electrical Equipment'\n",
    " 'Financial Technology (Fintech)' 'Transportation - Airlines'\n",
    " 'Information Technology and Services' 'Electronics, Electrical Equip.'\n",
    " 'Transportation/Infrastructure' 'Electronics/Instrumentation'\n",
    " 'Apparel/Fashion' 'Agrochemicals' 'Hospitality/Hotels'\n",
    " 'E-commerce/Technology' 'Retail - Discount/Department Stores' 'Logistics'\n",
    " 'Manufacturing & Transportation' 'Retail - General Merchandise'\n",
    " 'Retail - Home Improvement' 'Transportation' 'Medical Devices/Healthcare'\n",
    " 'Transportation Equipment' 'Ports and Infrastructure'\n",
    " 'Manufacturing/Steel' 'Entertainment - Streaming Services'\n",
    " 'Business Services - Testing/Compliance' 'Semiconductors'\n",
    " 'Technology & Electronics' 'Consumer Products - Cosmetics'\n",
    " 'Online Recruitment' 'Entertainment - Satellite Radio' 'Retail - Apparel'\n",
    " 'Construction' 'Retail/Home Improvement' 'Jewelry and Watches'\n",
    " 'Renewable Energy' 'Gaming/Gambling' 'Software/Technology'\n",
    " 'Oil and Gas Equipment, Services' 'Gambling'\n",
    " 'Business Services - Data/Analytics' 'Energy - Coal' 'Aviation/Airlines'\n",
    " 'Retail - Electronics' 'Technology - Ride-hailing'\n",
    " 'Construction & Building Materials' 'Education' 'Life Sciences'\n",
    " 'Cement and Chemicals' 'Entertainment - Music Streaming' 'E-commerce'\n",
    " 'Construction and Engineering' 'Media & Entertainment' 'Electronics'\n",
    " 'Equipment Leasing' 'Technology & Security'\n",
    " 'Aluminum and Copper Manufacturing' 'Apparel & Footwear'\n",
    " 'Cloud Software and Services' 'Media/Entertainment']"
   ]
  },
  {
   "cell_type": "markdown",
   "metadata": {},
   "source": [
    "# Sector function"
   ]
  },
  {
   "cell_type": "code",
   "execution_count": 12,
   "metadata": {},
   "outputs": [],
   "source": [
    "def getSector(prompt):\n",
    "    sectors_str = \", \".join(sectors_list)\n",
    "    industry_str = \", \".join(industry_list)\n",
    "    data = {\n",
    "        \"model\": \"llama3\",\n",
    "        \"messages\": [\n",
    "            {\n",
    "                \"role\": \"user\",\n",
    "                # What we are asking the API, will be given the name of company in the prompt\n",
    "                \"content\": f\"Identify the sector and industry for the company named {prompt}. \" \n",
    "                            \"Respond strictly in the format: 'Sector: [best matching sector], Industry: [best matching industry]'. \"\n",
    "                            f\"Select the most appropriate sector from this list: {sectors_str}, and the most appropriate industry from this list: {industry_str}.\" \n",
    "                            \"Do not include any additional information or commentary.\"\n",
    "            }\n",
    "        ],\n",
    "        \"stream\": False,\n",
    "    }\n",
    "\n",
    "    headers = {\n",
    "        \"Content-Type\": \"application/json\"\n",
    "    }\n",
    "\n",
    "    response = requests.post(url, headers=headers, json=data)\n",
    "    return response.json()[\"message\"][\"content\"]\n"
   ]
  },
  {
   "cell_type": "code",
   "execution_count": 13,
   "metadata": {},
   "outputs": [
    {
     "name": "stdout",
     "output_type": "stream",
     "text": [
      "Sector: Technology, Industry: Electronics\n"
     ]
    }
   ],
   "source": [
    "response = getSector(\"Apple\")\n",
    "print(response)"
   ]
  },
  {
   "cell_type": "code",
   "execution_count": 14,
   "metadata": {},
   "outputs": [
    {
     "name": "stdout",
     "output_type": "stream",
     "text": [
      "Sector: Energy, Industry: Utilities: Gas and Electric\n"
     ]
    }
   ],
   "source": [
    "reponse2 = getSector(\"Exelon\")\n",
    "print(reponse2)"
   ]
  },
  {
   "cell_type": "markdown",
   "metadata": {},
   "source": [
    "# Testing\n",
    "\n",
    "Here we test 100 well known companies"
   ]
  },
  {
   "cell_type": "code",
   "execution_count": 15,
   "metadata": {},
   "outputs": [
    {
     "name": "stdout",
     "output_type": "stream",
     "text": [
      "Apple: Sector: Technology, Industry: Electronics\n",
      "Microsoft: Sector: Information Technology\n",
      "Industry: Software and Technology\n",
      "Google: Sector: Information Technology, Industry: Internet Services\n",
      "Amazon: Sector: Information Technology, Industry: E-commerce\n",
      "Facebook: Sector: Technology\n",
      "Industry: Internet Services and Retailing\n",
      "Tesla: Sector: Industrial Conglomerate, Industry: Automotive\n",
      "IBM: Sector: Information Technology, Industry: Computer Software\n",
      "Intel: Sector: Information Technology\n",
      "Industry: Semiconductors\n",
      "Cisco: Sector: Information Technology, Industry: Communication Equipment\n",
      "Oracle: Sector: Information Technology, Industry: Software and Technology\n",
      "HP: Sector: Technology, Industry: Computer Hardware\n",
      "Dell: Sector: Technology, Industry: Appliances and Electronics\n",
      "Adobe: Sector: Information Technology, Industry: Software and Technology\n",
      "Salesforce: Sector: Information Technology, Industry: Software and Technology\n",
      "Uber: Sector: Technology, Industry: Internet Services and Retailing\n",
      "Lyft: Sector: Technology\n",
      "Industry: Transportation\n",
      "Snapchat: Sector: Technology, Industry: Internet Services\n",
      "Twitter: Sector: Communication Equipment, Industry: Internet Services and Retailing\n",
      "Netflix: Sector: Information Technology, Industry: Media\n",
      "Spotify: Sector: Information Technology\n",
      "Industry: Internet Services and Retailing\n",
      "Airbnb: Sector: Technology, Industry: Information Technology\n",
      "Dropbox: Sector: Information Technology\n",
      "Industry: Cloud Storage and File Sharing Services\n",
      "Pinterest: Sector: Information Technology, Industry: Internet Services\n",
      "PayPal: Sector: Financial Services, Industry: Financial Technology (Fintech)\n",
      "Square: Sector: Financial Technology\n",
      "Industry: Payment Processing\n",
      "Shopify: Sector: Technology\n",
      "Industry: E-commerce Platforms\n",
      "Zoom: Sector: Technology\n",
      "Industry: Communication Equipment\n",
      "Slack: Sector: Information Technology\n",
      "Industry: Communication Equipment\n",
      "Reddit: Sector: Information Technology, Industry: Internet Services and Retailing\n",
      "LinkedIn: Sector: Information Technology, Industry: Professional Networking and Social Media\n",
      "eBay: Sector: Consumer Goods\n",
      "Industry: E-commerce\n",
      "Nvidia: Sector: Information Technology\n",
      "Industry: Semiconductors and Other Electronic Components\n",
      "AMD: Sector: Information Technology, Industry: Semiconductors and Other Electronic Components\n",
      "Qualcomm: Sector: Technology\n",
      "Industry: Semiconductors and Other Electronic Components\n",
      "Samsung: Sector: Technology, Industry: Electronics\n",
      "LG: Sector: Appliances and Electronics, Industry: Electronics\n",
      "Sony: Sector: Consumer Goods, Industry: Electronics\n",
      "Panasonic: Sector: Appliances and Electronics\n",
      "Industry: Consumer Goods\n",
      "Philips: Sector: Appliances and Electronics, Industry: Electrical Equipment\n",
      "Siemens: Sector: Industrial Conglomerate, Industry: Engineering\n",
      "Xiaomi: Sector: Consumer Goods, Industry: Appliances and Electronics\n",
      "Huawei: Sector: Information Technology, Industry: Communication Equipment\n",
      "Alibaba: Sector: Information Technology, Industry: E-commerce\n",
      "Tencent: Sector: Information Technology, Industry: Internet Services and Retailing\n",
      "Baidu: Sector: Technology, Industry: Internet Services and Retailing\n",
      "JD.com: Sector: Technology\n",
      "Industry: E-commerce\n",
      "Meituan: Sector: Consumer Goods, Industry: Food and Beverage\n",
      "Didi: Sector: Information Technology, Industry: Internet Services and Retailing\n",
      "ByteDance: Sector: Information Technology, Industry: Internet Services and Retailing\n",
      "Pinduoduo: Sector: Consumer Goods, Industry: E-commerce\n",
      "Coca-Cola: Sector: Consumer Goods, Industry: Beverages\n",
      "Pepsi: Sector: Consumer Goods, Industry: Beverages\n",
      "Nike: Sector: Consumer Goods, Industry: Apparel\n",
      "Adidas: Sector: Consumer Goods, Industry: Apparel and Textiles\n",
      "Starbucks: Sector: Consumer Goods, Industry: Beverages\n",
      "McDonald's: Sector: Consumer Goods\n",
      "Industry: Restaurants\n",
      "Burger King: Sector: Consumer Goods, Industry: Restaurants\n",
      "KFC: Sector: Consumer Goods, Industry: Restaurants\n",
      "Subway: Sector: Consumer Goods, Industry: Restaurants\n",
      "Domino's: Sector: Consumer Goods, Industry: Food and Beverage\n",
      "Walmart: Sector: Consumer Goods, Industry: Retail\n",
      "Target: Sector: Retail, Industry: Consumer Goods\n",
      "Costco: Sector: Consumer Goods, Industry: Retail\n",
      "Home Depot: Sector: Consumer Goods, Industry: Home Improvement Retailer\n",
      "Lowe's: Sector: Consumer Goods, Industry: Home Improvement Retailer\n",
      "Best Buy: Sector: Consumer Goods, Industry: Appliances and Electronics\n",
      "Macy's: Sector: Consumer Goods\n",
      "Industry: Retail\n",
      "Nordstrom: Sector: Retail, Industry: Apparel and Textiles\n",
      "Sears: Sector: Retail, Industry: Consumer Goods\n",
      "JCPenney: Sector: Retail, Industry: Apparel and Textiles\n",
      "AT&T: Sector: Communication Equipment, Industry: Telecommunications\n",
      "Verizon: Sector: Information Technology, Industry: Telecommunications\n",
      "T-Mobile: Sector: Communication Equipment, Industry: Telecommunications\n",
      "Sprint: Sector: Information Technology, Industry: Communication Equipment\n",
      "Comcast: Sector: Communication Equipment, Industry: Telecommunications\n",
      "Charter: Sector: Industrials, Industry: Real Estate\n",
      "Dish Network: Sector: Communication Equipment, Industry: Telecommunications\n",
      "DirecTV: Sector: Consumer Goods, Industry: Appliances and Electronics\n",
      "CenturyLink: Sector: Communication Equipment, Industry: Telecommunications\n",
      "Frontier: Sector: Aerospace and Defense\n",
      "Industry: Aircraft Manufacturing\n",
      "Ford: Sector: Industrial Conglomerate, Industry: Automotive\n",
      "General Motors: Sector: Automotive\n",
      "Industry: Automotive\n",
      "Toyota: Sector: Automotive\n",
      "Industry: Automotive\n",
      "Honda: Sector: Automotive\n",
      "Industry: Automotive\n",
      "BMW: Sector: Industrial Conglomerate, Industry: Automotive\n",
      "Mercedes-Benz: Sector: Automotive\n",
      "Industry: Automotive\n",
      "Volkswagen: Sector: Automotive\n",
      "Industry: Automotive\n",
      "Audi: Sector: Automotive\n",
      "Industry: Automotive\n",
      "Porsche: Sector: Automotive\n",
      "Industry: Automotive\n",
      "Ferrari: Sector: Automotive, Industry: Automotive\n",
      "Boeing: Sector: Aerospace and Defense, Industry: Aerospace\n",
      "Airbus: Sector: Aerospace and Defense, Industry: Aerospace\n",
      "Lockheed Martin: Sector: Aerospace and Defense\n",
      "Industry: Aerospace\n",
      "Northrop Grumman: Sector: Aerospace and Defense, Industry: Aerospace and Defense\n",
      "Raytheon: Sector: Aerospace and Defense, Industry: Aerospace\n",
      "General Electric: Sector: Industrial Conglomerate, Industry: Electrical Equipment\n",
      "3M: Sector: Industrials, Industry: Conglomerate\n",
      "Honeywell: Sector: Industrial Conglomerate\n",
      "Industry: Aerospace and Defense\n",
      "Caterpillar: Sector: Industrial Conglomerate, Industry: Industrial Machinery\n",
      "John Deere: Sector: Industrials, Industry: Industrial Machinery\n"
     ]
    }
   ],
   "source": [
    "# Make a list of company name\n",
    "company_names = [\n",
    "    \"Apple\", \"Microsoft\", \"Google\", \"Amazon\", \"Facebook\", \"Tesla\", \"IBM\", \"Intel\", \"Cisco\", \"Oracle\",\n",
    "    \"HP\", \"Dell\", \"Adobe\", \"Salesforce\", \"Uber\", \"Lyft\", \"Snapchat\", \"Twitter\", \"Netflix\", \"Spotify\",\n",
    "    \"Airbnb\", \"Dropbox\", \"Pinterest\", \"PayPal\", \"Square\", \"Shopify\", \"Zoom\", \"Slack\", \"Reddit\", \"LinkedIn\",\n",
    "    \"eBay\", \"Nvidia\", \"AMD\", \"Qualcomm\", \"Samsung\", \"LG\", \"Sony\", \"Panasonic\", \"Philips\", \"Siemens\",\n",
    "    \"Xiaomi\", \"Huawei\", \"Alibaba\", \"Tencent\", \"Baidu\", \"JD.com\", \"Meituan\", \"Didi\", \"ByteDance\", \"Pinduoduo\",\n",
    "    \"Coca-Cola\", \"Pepsi\", \"Nike\", \"Adidas\", \"Starbucks\", \"McDonald's\", \"Burger King\", \"KFC\", \"Subway\", \"Domino's\",\n",
    "    \"Walmart\", \"Target\", \"Costco\", \"Home Depot\", \"Lowe's\", \"Best Buy\", \"Macy's\", \"Nordstrom\", \"Sears\", \"JCPenney\",\n",
    "    \"AT&T\", \"Verizon\", \"T-Mobile\", \"Sprint\", \"Comcast\", \"Charter\", \"Dish Network\", \"DirecTV\", \"CenturyLink\", \"Frontier\",\n",
    "    \"Ford\", \"General Motors\", \"Toyota\", \"Honda\", \"BMW\", \"Mercedes-Benz\", \"Volkswagen\", \"Audi\", \"Porsche\", \"Ferrari\",\n",
    "    \"Boeing\", \"Airbus\", \"Lockheed Martin\", \"Northrop Grumman\", \"Raytheon\", \"General Electric\", \"3M\", \"Honeywell\", \"Caterpillar\", \"John Deere\"\n",
    "]\n",
    "\n",
    "# Get the sector and industry of each company\n",
    "for company in company_names:\n",
    "    response = getSector(company)\n",
    "    print(f\"{company}: {response}\")"
   ]
  }
 ],
 "metadata": {
  "kernelspec": {
   "display_name": "base",
   "language": "python",
   "name": "python3"
  },
  "language_info": {
   "codemirror_mode": {
    "name": "ipython",
    "version": 3
   },
   "file_extension": ".py",
   "mimetype": "text/x-python",
   "name": "python",
   "nbconvert_exporter": "python",
   "pygments_lexer": "ipython3",
   "version": "3.12.4"
  }
 },
 "nbformat": 4,
 "nbformat_minor": 2
}
