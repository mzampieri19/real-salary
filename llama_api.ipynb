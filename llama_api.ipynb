{
 "cells": [
  {
   "cell_type": "markdown",
   "metadata": {},
   "source": [
    "This is the file were using to test the llama api."
   ]
  },
  {
   "cell_type": "markdown",
   "metadata": {},
   "source": [
    "Create Api request object: \n",
    "\n",
    "We define the conent a"
   ]
  },
  {
   "cell_type": "code",
   "execution_count": 3,
   "metadata": {},
   "outputs": [],
   "source": [
    "import pandas as pd\n",
    "import numpy as np\n",
    "import seaborn as sn\n",
    "import json\n",
    "import matplotlib.pyplot as plt\n",
    "from collections import Counter\n",
    "from llamaapi import LlamaAPI\n",
    "from dotenv import load_dotenv\n",
    "import os "
   ]
  },
  {
   "cell_type": "markdown",
   "metadata": {},
   "source": [
    "Creating the LLAMA object to start using the API"
   ]
  },
  {
   "cell_type": "code",
   "execution_count": 5,
   "metadata": {},
   "outputs": [],
   "source": [
    "load_dotenv()\n",
    "# Create a new LlamaAPI object\n",
    "LLAMA_API_KEY = os.getenv(\"LLAMA_API_KEY\")\n",
    "llama = LlamaAPI(LLAMA_API_KEY)"
   ]
  },
  {
   "cell_type": "markdown",
   "metadata": {},
   "source": [
    "We define the content as: What is the sector and industry of this job\n",
    "\n",
    "We give the API the following infomration: job description, responsibilities, and skills "
   ]
  },
  {
   "cell_type": "code",
   "execution_count": null,
   "metadata": {},
   "outputs": [],
   "source": [
    "api_request_json = {\n",
    "  \"model\": \"llama3.1-70b\",\n",
    "  \"messages\": [\n",
    "    {\"role\": \"user\", \"content\": \"What is the sector and industry of this job?\"}, \n",
    "  ],\n",
    "  \"functions\": [\n",
    "    {\n",
    "        \"name\": \"get_sector_industry\",\n",
    "        \"description\": \n",
    "            \"Get the sector and industry from this given job information such as skills, responsibilites, and description\",\n",
    "        \"parameters\": {\n",
    "            \"type\": \"object\",\n",
    "        \"properties\": { \n",
    "            \"job description\": {\n",
    "                \"type\": \"string\",\n",
    "                \"description\": \"The job description for the role\"\n",
    "            },\n",
    "            \"responsibilites\": {\n",
    "                \"type\": \"string\",\n",
    "                \"description\": \"The job responsibilites for the role\"\n",
    "            },\n",
    "            \"skills\": {\n",
    "                \"type\": \"string\",\n",
    "                \"description\": \"The required skills listed for the role\"\n",
    "            },\n",
    "        },\n",
    "        \"required\": [\"job description\", \"responsibilites\", \"skills\"] \n",
    "        }\n",
    "    }\n",
    "  ],\n",
    "}\n",
    "\n",
    "response = llama.run(api_request_json)\n",
    "output = response.json()['choices'][0]['message']"
   ]
  },
  {
   "cell_type": "markdown",
   "metadata": {},
   "source": [
    "Function call for retrieving info from online"
   ]
  },
  {
   "cell_type": "code",
   "execution_count": null,
   "metadata": {},
   "outputs": [],
   "source": [
    "def get_sector_industry(location):\n",
    "# caroline says to not use a specific external url/database to query for info -- this is what the email and weather functions used but our case is different\n",
    "# Need to create function to get skills, responsibilites, and description from job posting"
   ]
  },
  {
   "cell_type": "code",
   "execution_count": null,
   "metadata": {},
   "outputs": [],
   "source": [
    "email_information = []\n",
    "def get_emails(quantity, login, password):\n",
    "    try:\n",
    "        mail = imaplib.IMAP4_SSL(\"imap.gmail.com\")\n",
    "        mail.login(login, password)\n",
    "\n",
    "        mail.select(\"inbox\")\n",
    "\n",
    "        status, messages = mail.search(None, \"(UNSEEN)\")\n",
    "\n",
    "        email_ids = messages[0].split()[::-1]\n",
    "\n",
    "        limite = min(quantity, len(email_ids))\n",
    "\n",
    "        for i in range(limite):\n",
    "            email_id = email_ids[i]\n",
    "            _, msg_data = mail.fetch(email_id, \"(RFC822)\")\n",
    "            for response_part in msg_data:\n",
    "                if isinstance(response_part, tuple):\n",
    "                    email_message = email.message_from_bytes(response_part[1])\n",
    "                    subject, encoding = decode_header(email_message[\"Subject\"])[0]\n",
    "                    if isinstance(subject, bytes):\n",
    "                        subject = subject.decode(encoding or \"utf-8\")\n",
    "\n",
    "                    sender = email_message.get(\"From\")\n",
    "\n",
    "            email_information.append({\"Subject\": subject, \"From\": sender})\n",
    "                    \n",
    "\n",
    "        mail.logout()\n",
    "        return json.dumps(email_information)\n",
    "    except Exception as e:\n",
    "        print(\"Err:\", str(e))"
   ]
  }
 ],
 "metadata": {
  "kernelspec": {
   "display_name": "base",
   "language": "python",
   "name": "python3"
  },
  "language_info": {
   "codemirror_mode": {
    "name": "ipython",
    "version": 3
   },
   "file_extension": ".py",
   "mimetype": "text/x-python",
   "name": "python",
   "nbconvert_exporter": "python",
   "pygments_lexer": "ipython3",
   "version": "3.12.4"
  }
 },
 "nbformat": 4,
 "nbformat_minor": 2
}
